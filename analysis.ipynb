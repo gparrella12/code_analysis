{
 "cells": [
  {
   "cell_type": "code",
   "execution_count": null,
   "id": "cd761d90",
   "metadata": {},
   "outputs": [
    {
     "name": "stdout",
     "output_type": "stream",
     "text": [
      "Index(['index', 'hash', 'vul', 'cwe', 'project', 'reference', 'code'], dtype='object')\n"
     ]
    }
   ],
   "source": [
    "# read xlsx \n",
    "import pandas as pd\n",
    "file_path = './mvfsc_test_set.xlsx'\n",
    "df = pd.read_excel(file_path, sheet_name=\"Test set\")\n",
    "# print the names of the sheets\n",
    "print(df.keys())"
   ]
  },
  {
   "cell_type": "code",
   "execution_count": 9,
   "id": "4eecd63b",
   "metadata": {},
   "outputs": [
    {
     "name": "stdout",
     "output_type": "stream",
     "text": [
      "Total number of functions:  972\n",
      "Unique projects:  ['Cmark-gfm' 'Contiki-NG' 'eclipse' 'exim' 'ffmpeg' 'gnutls' 'gpac'\n",
      " 'Harfbuzz' 'Jasper' 'libarchive' 'libcoap' 'libmobi' 'libressl' 'libyang'\n",
      " 'Linux Enterprise Desktop' 'LUA' 'mruby' 'OpenCV' 'opensd' 'OpenSSH'\n",
      " 'pjsip' 'Qt' 'radare' 'Redis' 'Selenium' 'squid' 'TensorFlow'\n",
      " 'Tensorflow' 'tensorflow' 'vim' 'wireshark' 'yara' 'ZeroMQ' 'Openwrt']\n",
      "Number of functions for each project: \n",
      "project\n",
      "TensorFlow                  174\n",
      "pjsip                       113\n",
      "vim                          70\n",
      "wireshark                    64\n",
      "tensorflow                   59\n",
      "gnutls                       52\n",
      "Tensorflow                   44\n",
      "ffmpeg                       43\n",
      "Redis                        41\n",
      "gpac                         40\n",
      "Contiki-NG                   40\n",
      "Qt                           28\n",
      "libarchive                   28\n",
      "libmobi                      26\n",
      "squid                        24\n",
      "radare                       18\n",
      "OpenSSH                      15\n",
      "Harfbuzz                     14\n",
      "LUA                          13\n",
      "eclipse                      13\n",
      "Openwrt                      10\n",
      "yara                          6\n",
      "OpenCV                        6\n",
      "Linux Enterprise Desktop      5\n",
      "mruby                         4\n",
      "libyang                       4\n",
      "exim                          4\n",
      "Cmark-gfm                     3\n",
      "opensd                        2\n",
      "Selenium                      2\n",
      "libressl                      2\n",
      "libcoap                       2\n",
      "Jasper                        2\n",
      "ZeroMQ                        1\n",
      "Name: count, dtype: int64\n"
     ]
    }
   ],
   "source": [
    "# print total number of rows \n",
    "print(\"Total number of functions: \", len(df))\n",
    "\n",
    "# print the unique project names\n",
    "print(\"Unique projects: \", df['project'].unique())\n",
    "\n",
    "# print the number of function for each project \n",
    "print(\"Number of functions for each project: \")\n",
    "print(df['project'].value_counts())\n"
   ]
  },
  {
   "cell_type": "code",
   "execution_count": 10,
   "id": "8db395f8",
   "metadata": {},
   "outputs": [
    {
     "name": "stdout",
     "output_type": "stream",
     "text": [
      "Number of vulnerable functions:  487\n",
      "Number of neutral functions:  485\n"
     ]
    }
   ],
   "source": [
    "# print number of  vulnerable and non-vulnerable functions\n",
    "print(\"Number of vulnerable functions: \", len(df[df['vul'] == 1]))\n",
    "print(\"Number of neutral functions: \", len(df[df['vul'] == 0]))"
   ]
  },
  {
   "cell_type": "code",
   "execution_count": 11,
   "id": "1131049a",
   "metadata": {},
   "outputs": [
    {
     "name": "stdout",
     "output_type": "stream",
     "text": [
      "Number of different CWEs:  12\n",
      "Number of functions for each CWE: \n",
      "cwe\n",
      "CWE-119    95\n",
      "CWE-787    81\n",
      "CWE-125    68\n",
      "CWE-754    60\n",
      "CWE-691    37\n",
      "CWE-190    34\n",
      "CWE-664    31\n",
      "Others     29\n",
      "CWE-617    22\n",
      "CWE-707    17\n",
      "CWE-369    13\n",
      "Name: count, dtype: int64\n"
     ]
    }
   ],
   "source": [
    "# number of different CWEs\n",
    "print(\"Number of different CWEs: \", len(df['cwe'].unique()))\n",
    "# print the number of files for each CWE\n",
    "print(\"Number of functions for each CWE: \")\n",
    "print(df['cwe'].value_counts())"
   ]
  },
  {
   "cell_type": "code",
   "execution_count": 16,
   "id": "75b78c8e",
   "metadata": {},
   "outputs": [
    {
     "name": "stdout",
     "output_type": "stream",
     "text": [
      "Example of a function: \n",
      "static int S_render_node(cmark_renderer *renderer, cmark_node *node) {\n",
      "    if (node->next->type == CMARK_NODE_LIST) {\n",
      "        CR();\n",
      "    }\n",
      "    break;\n",
      "  case CMARK_NODE_ITEM:\n",
      "    if (cmark_node_get_list_type(node->parent) == CMARK_BULLET_LIST) {\n",
      "        marker_width = 4;\n",
      "    } else {\n",
      "        list_number = cmark_node_get_list_start(node->parent);\n",
      "        list_delim = cmark_node_get_list_delim(node->parent);\n",
      "        tmp = node;\n",
      "        while (tmp->prev) {\n",
      "            tmp = tmp->prev;\n",
      "            list_number += 1;\n",
      "        }\n",
      "    }\n",
      "}\n",
      "Label:  1\n",
      "CWE:  CWE-664\n",
      "Project:  Cmark-gfm\n"
     ]
    }
   ],
   "source": [
    "# print an example of a function\n",
    "print(\"Example of a function: \")\n",
    "print(df.iloc[0]['code'])\n",
    "\n",
    "print(\"Label: \", df.iloc[0]['vul'])\n",
    "print(\"CWE: \", df.iloc[0]['cwe'])\n",
    "print(\"Project: \", df.iloc[0]['project'])\n"
   ]
  }
 ],
 "metadata": {
  "kernelspec": {
   "display_name": "pytorch",
   "language": "python",
   "name": "python3"
  },
  "language_info": {
   "codemirror_mode": {
    "name": "ipython",
    "version": 3
   },
   "file_extension": ".py",
   "mimetype": "text/x-python",
   "name": "python",
   "nbconvert_exporter": "python",
   "pygments_lexer": "ipython3",
   "version": "3.10.16"
  }
 },
 "nbformat": 4,
 "nbformat_minor": 5
}
